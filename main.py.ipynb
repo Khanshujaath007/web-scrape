{
 "cells": [
  {
   "cell_type": "code",
   "execution_count": 7,
   "id": "72e3a21f",
   "metadata": {},
   "outputs": [],
   "source": [
    "from bs4 import BeautifulSoup\n",
    "import requests\n",
    "import pandas as pd\n",
    "import numpy as np"
   ]
  },
  {
   "cell_type": "code",
   "execution_count": 80,
   "id": "8229cfb9",
   "metadata": {},
   "outputs": [],
   "source": [
    "# Function to extract Product Title\n",
    "def get_title(soup):\n",
    "\n",
    "    try:\n",
    "        # Outer Tag Object\n",
    "        title = soup.find(\"span\", attrs={\"id\":'productTitle'})\n",
    "        # Inner NavigatableString Object\n",
    "        title_value = title.text\n",
    "\n",
    "        # Title as a string value\n",
    "        title_string = title_value.strip()\n",
    "\n",
    "    except AttributeError:\n",
    "        title_string = \"\"\n",
    "\n",
    "    return title_string"
   ]
  },
  {
   "cell_type": "code",
   "execution_count": 81,
   "id": "157ce6fa",
   "metadata": {},
   "outputs": [],
   "source": [
    "# Function to extract Product Price\n",
    "def get_price(soup):\n",
    "\n",
    "    try:\n",
    "        price = soup.find(\"span\", attrs={'class':'a-price aok-align-center'}).find(\"span\" , attrs={'class':'a-offscreen'}).text\n",
    "\n",
    "    except AttributeError:\n",
    "\n",
    "        try:\n",
    "            # If there is some deal price\n",
    "            price = soup.find(\"span\", attrs={'class':'a-price aok-align-center'}).find(\"span\" , attrs={'class':'a-offscreen'}).text\n",
    "        except:\n",
    "            price = \"\"\n",
    "\n",
    "    return price"
   ]
  },
  {
   "cell_type": "code",
   "execution_count": 82,
   "id": "fe80cfd4",
   "metadata": {},
   "outputs": [],
   "source": [
    "def get_rating(soup):\n",
    "\n",
    "    try:\n",
    "        rating = soup.find(\"span\", attrs={'class':'a-icon-alt'}).text\n",
    "\n",
    "    \n",
    "    except AttributeError:\n",
    "        try:\n",
    "            rating = soup.find(\"span\", attrs={'class':'a-icon-alt'}).string.strip()\n",
    "        except:\n",
    "            rating = \"\"\t\n",
    "\n",
    "    return rating"
   ]
  },
  {
   "cell_type": "code",
   "execution_count": 83,
   "id": "7f477885",
   "metadata": {},
   "outputs": [],
   "source": [
    "# Function to extract Number of User Reviews\n",
    "def get_review_count(soup):\n",
    "    try:\n",
    "        review_count = soup.find(\"span\", attrs={'id':'acrCustomerReviewText'}).text\n",
    "\n",
    "        \n",
    "    except AttributeError:\n",
    "        review_count = \"\"\n",
    "\n",
    "    return review_count"
   ]
  },
  {
   "cell_type": "code",
   "execution_count": 84,
   "id": "e7b8d381",
   "metadata": {},
   "outputs": [],
   "source": [
    "#Function to extract Product Description\n",
    "def get_description(soup):\n",
    "\n",
    "    try:\n",
    "        desc_list = soup.find(\"div\", attrs={'id':'feature-bullets'}).find_all(\"span\",attrs={'class':'a-list-item'})\n",
    "\n",
    "        desc=\"\"\n",
    "        for point in desc_list:\n",
    "            desc=point.text+desc\n",
    "    except AttributeError:\n",
    "        desc=\"\"\n",
    "    \n",
    "    return desc;\n",
    "    "
   ]
  },
  {
   "cell_type": "code",
   "execution_count": 122,
   "id": "9fb8bfb9",
   "metadata": {},
   "outputs": [],
   "source": [
    "if __name__ == '__main__':\n",
    "\n",
    "    # add your user agent \n",
    "    HEADERS = ({'User-Agent':'Mozilla/5.0 (Windows NT 10.0; Win64; x64) AppleWebKit/537.36 (KHTML, like Gecko) Chrome/113.0.0.0 Safari/537.36 Edg/113.0.1774.42', 'Accept-Language': 'en-US, en;q=0.5'})\n",
    "\n",
    "    # The webpage URL\n",
    "    URL = \"https://www.amazon.in/s?k=bags&page=20&crid=TM4YWVYRN5KW&qid=1685029914&sprefix=bag%2Caps%2C262&ref=sr_pg_20\"\n",
    "#     \n",
    "    # HTTP Request\n",
    "    webpage = requests.get(URL, headers=HEADERS)\n",
    "\n",
    "    # Soup Object containing all data\n",
    "    soup = BeautifulSoup(webpage.content, \"html.parser\")\n",
    "\n",
    "\n",
    "    # find all anchor tags with product link\n",
    "    links = soup.find_all(\"a\",\"a-link-normal s-underline-text s-underline-link-text s-link-style a-text-normal\")\n",
    "\n",
    "    # Store the links\n",
    "    links_list = []\n",
    "    \n",
    "#     print(links)\n",
    "\n",
    "    # Loop for extracting links from Tag Objects\n",
    "    for link in links:\n",
    "            links_list.append(link.get('href'))\n",
    "        \n",
    "#     print(links_list)\n",
    "\n",
    "    d = {\"title\":[], \"price\":[], \"rating\":[], \"numberofreviews\":[], \"description\":[]}\n",
    "    \n",
    "    # Loop for extracting product details from each link \n",
    "    for link in links_list:\n",
    "        new_webpage = requests.get(\"https://www.amazon.in\" + link, headers=HEADERS)\n",
    "\n",
    "        new_soup = BeautifulSoup(new_webpage.content, \"html.parser\")\n",
    "\n",
    "        # Function calls to display all necessary product information\n",
    "        d['title'].append(get_title(new_soup))\n",
    "        d['price'].append(get_price(new_soup))\n",
    "        d['rating'].append(get_rating(new_soup))\n",
    "        d['numberofreviews'].append(get_review_count(new_soup))\n",
    "        d['description'].append(get_description(new_soup))\n",
    "\n",
    "        \n",
    "    amazon_df = pd.DataFrame.from_dict(d)\n",
    "    amazon_df['title'].replace('', np.nan, inplace=True)\n",
    "    amazon_df = amazon_df.dropna(subset=['title'])\n",
    "    amazon_df.to_csv(\"amazon_data.csv\", header=True, index=False)"
   ]
  },
  {
   "cell_type": "code",
   "execution_count": 99,
   "id": "64380acc",
   "metadata": {},
   "outputs": [
    {
     "data": {
      "text/html": [
       "<div>\n",
       "<style scoped>\n",
       "    .dataframe tbody tr th:only-of-type {\n",
       "        vertical-align: middle;\n",
       "    }\n",
       "\n",
       "    .dataframe tbody tr th {\n",
       "        vertical-align: top;\n",
       "    }\n",
       "\n",
       "    .dataframe thead th {\n",
       "        text-align: right;\n",
       "    }\n",
       "</style>\n",
       "<table border=\"1\" class=\"dataframe\">\n",
       "  <thead>\n",
       "    <tr style=\"text-align: right;\">\n",
       "      <th></th>\n",
       "      <th>title</th>\n",
       "      <th>price</th>\n",
       "      <th>rating</th>\n",
       "      <th>numberofreviews</th>\n",
       "      <th>description</th>\n",
       "    </tr>\n",
       "  </thead>\n",
       "  <tbody>\n",
       "    <tr>\n",
       "      <th>0</th>\n",
       "      <td>NIVIA Beast Gym Bag-4 Polyester/Unisex Gym Bag...</td>\n",
       "      <td>₹409.00</td>\n",
       "      <td>4.2 out of 5 stars</td>\n",
       "      <td>3,290 ratings</td>\n",
       "      <td>Durable zippers and enhanced by strong stitch...</td>\n",
       "    </tr>\n",
       "    <tr>\n",
       "      <th>4</th>\n",
       "      <td>Lenovo 15.6\" Professional Backpack, Made in In...</td>\n",
       "      <td>₹700.00</td>\n",
       "      <td>4.2 out of 5 stars</td>\n",
       "      <td>755 ratings</td>\n",
       "      <td>Styled in classic dark blue and dark grey, th...</td>\n",
       "    </tr>\n",
       "    <tr>\n",
       "      <th>9</th>\n",
       "      <td>ADISA 32L Large Laptop Backpack Office Bag Col...</td>\n",
       "      <td>₹599.00</td>\n",
       "      <td>3.8 out of 5 stars</td>\n",
       "      <td>141 ratings</td>\n",
       "      <td>Reflector Logo / Adjustable Padded Shoulder S...</td>\n",
       "    </tr>\n",
       "    <tr>\n",
       "      <th>14</th>\n",
       "      <td>Lenovo 15.6\" Casual Backpack B210</td>\n",
       "      <td>₹774.00</td>\n",
       "      <td>4.2 out of 5 stars</td>\n",
       "      <td>26,983 ratings</td>\n",
       "      <td>Country of Origin: China   In the Box : 15.6-...</td>\n",
       "    </tr>\n",
       "  </tbody>\n",
       "</table>\n",
       "</div>"
      ],
      "text/plain": [
       "                                                title    price   \n",
       "0   NIVIA Beast Gym Bag-4 Polyester/Unisex Gym Bag...  ₹409.00  \\\n",
       "4   Lenovo 15.6\" Professional Backpack, Made in In...  ₹700.00   \n",
       "9   ADISA 32L Large Laptop Backpack Office Bag Col...  ₹599.00   \n",
       "14                  Lenovo 15.6\" Casual Backpack B210  ₹774.00   \n",
       "\n",
       "                rating numberofreviews   \n",
       "0   4.2 out of 5 stars   3,290 ratings  \\\n",
       "4   4.2 out of 5 stars     755 ratings   \n",
       "9   3.8 out of 5 stars     141 ratings   \n",
       "14  4.2 out of 5 stars  26,983 ratings   \n",
       "\n",
       "                                          description  \n",
       "0    Durable zippers and enhanced by strong stitch...  \n",
       "4    Styled in classic dark blue and dark grey, th...  \n",
       "9    Reflector Logo / Adjustable Padded Shoulder S...  \n",
       "14   Country of Origin: China   In the Box : 15.6-...  "
      ]
     },
     "execution_count": 99,
     "metadata": {},
     "output_type": "execute_result"
    }
   ],
   "source": [
    "amazon_df"
   ]
  },
  {
   "cell_type": "code",
   "execution_count": 119,
   "id": "0f4d0ff7",
   "metadata": {},
   "outputs": [
    {
     "data": {
      "text/plain": [
       "{'title': [],\n",
       " 'price': [],\n",
       " 'rating': [],\n",
       " 'numberofreviews': [],\n",
       " 'description': []}"
      ]
     },
     "execution_count": 119,
     "metadata": {},
     "output_type": "execute_result"
    }
   ],
   "source": [
    "d"
   ]
  }
 ],
 "metadata": {
  "kernelspec": {
   "display_name": "Python 3 (ipykernel)",
   "language": "python",
   "name": "python3"
  },
  "language_info": {
   "codemirror_mode": {
    "name": "ipython",
    "version": 3
   },
   "file_extension": ".py",
   "mimetype": "text/x-python",
   "name": "python",
   "nbconvert_exporter": "python",
   "pygments_lexer": "ipython3",
   "version": "3.11.0"
  }
 },
 "nbformat": 4,
 "nbformat_minor": 5
}
